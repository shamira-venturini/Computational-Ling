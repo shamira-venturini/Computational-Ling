{
 "cells": [
  {
   "cell_type": "markdown",
   "metadata": {},
   "source": [
    "# Assignment: functions\n",
    "\n",
    "*Computational Linguistics -- Gianluca E. Lebani*"
   ]
  },
  {
   "cell_type": "markdown",
   "metadata": {},
   "source": [
    "---"
   ]
  },
  {
   "cell_type": "markdown",
   "metadata": {},
   "source": [
    "#### Student's name: Shamira Venturini"
   ]
  },
  {
   "cell_type": "markdown",
   "metadata": {},
   "source": [
    "#### Student's ID: 882125"
   ]
  },
  {
   "cell_type": "markdown",
   "metadata": {},
   "source": [
    "#### By submitting this notebook, you implicitly agree to the following code of conduct:\n",
    "\n",
    ">My answers to homework, quizzes and exams will be my own work (except for assignments that explicitly permit collaboration).\n",
    ">\n",
    ">I will not make solutions to homework, quizzes or exams available to anyone else. This includes both solutions written by me, as well as any official solutions provided by the course staff.\n",
    ">\n",
    ">I will not engage in any other activities that will dishonestly improve my results or dishonestly improve/hurt the results of others.\n",
    "\n",
    "> **source**: from Coursera's [Honor Code](https://www.coursera.org/about/terms/honorcode)"
   ]
  },
  {
   "cell_type": "markdown",
   "metadata": {},
   "source": [
    "---"
   ]
  },
  {
   "cell_type": "markdown",
   "metadata": {},
   "source": [
    "### Question 1. (6 points)\n",
    "\n",
    "Write the following simple countdown programs starting from 90 that prints the following messages:\n",
    "\n",
    "- every 10 steps: *\"`[_number_]` seconds left\"* \n",
    "\n",
    "- 5 steps to go: *\"we're almost there\"*\n",
    "\n",
    "- when the programs reaches 0: *\"time over!\"*"
   ]
  },
  {
   "cell_type": "markdown",
   "metadata": {},
   "source": [
    "#### Instructions\n",
    "\n",
    "1. Write a function that generates the default message template (*\"`[_number_]` seconds left\"* ). Then write a (reverse) loop that uses your function to generate all the messages.\n",
    "\n",
    "2. The function should take a single argument, a number. It can either print the generated message or return it -- your choice.\n",
    "\n",
    "3. Printing the special messages (*\"we're almost there\"* and *\"time over!\"*) is easy: Just print them exactly as they are. \n",
    "\n",
    "4. Suggestion: A good approach is to first write the code needed for regular (high-numbered) messages. Then find a way to filter the non-relevant steps (i.e. those that cannot be divided by 10) and than treat the special cases.\n",
    "\n",
    "5. That's how the output should look like:\n",
    "\n",
    "```\n",
    "90 seconds left\n",
    "80 seconds left\n",
    "70 seconds left\n",
    "60 seconds left\n",
    "50 seconds left\n",
    "40 seconds left\n",
    "30 seconds left\n",
    "20 seconds left\n",
    "10 seconds left\n",
    "we're almost there...\n",
    "time over!\n",
    "```"
   ]
  },
  {
   "cell_type": "code",
   "execution_count": 1,
   "metadata": {},
   "outputs": [
    {
     "name": "stdout",
     "output_type": "stream",
     "text": [
      "90 seconds left\n",
      "80 seconds left\n",
      "70 seconds left\n",
      "60 seconds left\n",
      "50 seconds left\n",
      "40 seconds left\n",
      "30 seconds left\n",
      "20 seconds left\n",
      "10 seconds left\n",
      "we're almost there...\n",
      "time over!\n"
     ]
    }
   ],
   "source": [
    "# your code here\n",
    "def final_countdown(seconds):\n",
    "    n = seconds\n",
    "    while n >= 10:\n",
    "        print (n,\"seconds left\")\n",
    "        n -= 10\n",
    "    if n <= 10:\n",
    "        print(\"we're almost there...\")\n",
    "        n -= 5\n",
    "    if n <= 0:\n",
    "        print (\"time over!\")\n",
    "    \n",
    "final_countdown(90)"
   ]
  },
  {
   "cell_type": "code",
   "execution_count": 33,
   "metadata": {},
   "outputs": [
    {
     "name": "stdout",
     "output_type": "stream",
     "text": [
      "90 seconds left\n",
      "80 seconds left\n",
      "70 seconds left\n",
      "60 seconds left\n",
      "50 seconds left\n",
      "40 seconds left\n",
      "30 seconds left\n",
      "20 seconds left\n",
      "10 seconds left\n",
      "we're almost there...\n",
      "time over!\n"
     ]
    }
   ],
   "source": [
    "#adjusted code\n",
    "def final_countdown(sec):\n",
    "    while sec >= 10:\n",
    "        print (sec, \"seconds left\")\n",
    "        sec -= 10\n",
    "    if sec <= 10 and sec <= 0:\n",
    "        print (\"we're almost there...\")\n",
    "        print (\"time over!\")\n",
    "        sec -= 5\n",
    "        \n",
    "final_countdown(90)"
   ]
  },
  {
   "cell_type": "markdown",
   "metadata": {},
   "source": [
    "---"
   ]
  },
  {
   "cell_type": "markdown",
   "metadata": {},
   "source": [
    "### Question 2. (4 points)\n",
    "\n",
    "Write a Python program that print your [astrological sign](https://en.wikipedia.org/wiki/Western_astrology#The_twelve_signs) on the basis of your day and month of birth.\n",
    "\n",
    "- Suggestion: write a functions that takes **two arguments**, the day of birth and the month of birth, and that returns or print your astrological sign.\n",
    "\n",
    "- That's how the output should look like:\n",
    "\n",
    "```\n",
    "Your Astrological sign is : Taurus\n",
    "```"
   ]
  },
  {
   "cell_type": "code",
   "execution_count": 17,
   "metadata": {},
   "outputs": [
    {
     "name": "stdout",
     "output_type": "stream",
     "text": [
      "Your Astrological sign is : Aquarius\n"
     ]
    }
   ],
   "source": [
    "# your code here: too redundant\n",
    "astro = \"Your Astrological sign is :\"\n",
    "\n",
    "def zodiac(day, month):\n",
    "    \n",
    "    if m == 1 and in d range (1,21):\n",
    "        print (astro, \"Capricorn\")\n",
    "    elif m == 1 and d in range (21,32):\n",
    "        print (astro, \"Aquarius\")\n",
    "    elif m == 2 and d in range (1,20):\n",
    "        print (astro, \"Aquarius\")\n",
    "    elif m == 2 and d in range (20,30):\n",
    "        print (astro, \"Pisces\")\n",
    "    elif m == 3 and d in range (1,21):\n",
    "        print (astro, \"Pisces\")\n",
    "    elif m == 3 and d in range (21,32):\n",
    "        print (astro, \"Aries\")\n",
    "    elif m == 4 and d in range (1,21):\n",
    "        print (astro, \"Aries\")\n",
    "    elif m == 4 and d in range (21,31):\n",
    "        print (astro, \"Taurus\")\n",
    "    elif m == 5 and d in range (1,21):\n",
    "        print (astro, \"Taurus\")\n",
    "    elif m == 5 and d in range (21,32):\n",
    "        print (astro, \"Gemini\")\n",
    "    elif m == 6 and d in range (1,21):\n",
    "        print (astro, \"Gemini\")\n",
    "    elif m == 6 and d in range (21,31):\n",
    "        print (astro, \"Cancer\")\n",
    "    elif m == 7 and d in range (1, 22):\n",
    "        print (astro, \"Cancer\")\n",
    "    elif m == 7 and d in range (22,32):\n",
    "        print (astro, \"Leo\")\n",
    "    elif m == 8 and d in range (1,22):\n",
    "        print (astro, \"Leo\")\n",
    "    elif m == 8 and d in range (22,32):\n",
    "        print (astro, \"Virgo\")\n",
    "    elif m == 9 and d in range (1,22):\n",
    "        print (astro, \"Virgo\")\n",
    "    elif m == 9 and d in range (22,31):\n",
    "        print (astro, \"Libra\")\n",
    "    elif m == 10 and d in range (1,22):\n",
    "        print (astro, \"Libra\")\n",
    "    elif m == 10 and d in range (22,33):\n",
    "        print (astro, \"Scorpio\")\n",
    "    elif m == 11 and d in range (1,22):\n",
    "        print (astro, \"Scorpio\")\n",
    "    elif m == 11 and d in range (22,31):\n",
    "        print (astro, \"Sagittarius\")\n",
    "    elif m == 12 and d in range (1,22):\n",
    "        print (astro, \"Sagittarius\")\n",
    "    elif m == 12 and d in range (22,32):\n",
    "        print (astro, \"Capricorn\")\n",
    "        \n",
    "zodiac(3,2)\n"
   ]
  },
  {
   "cell_type": "code",
   "execution_count": 43,
   "metadata": {},
   "outputs": [
    {
     "name": "stdout",
     "output_type": "stream",
     "text": [
      "Your Astrological sign is : Aquarius\n"
     ]
    }
   ],
   "source": [
    "#adjusted code: Prof doesn't like it this way\n",
    "astro = \"Your Astrological sign is :\"\n",
    "\n",
    "def zodiac(day, month):\n",
    "    \n",
    "    if month == 1:\n",
    "        print(astro,\"Capricorn\") if day <= 21 else print(astro,\"Aquarius\")\n",
    "    elif month == 2:\n",
    "        print(astro,\"Aquarius\") if day <= 20 else print(astro,\"Pisces\")\n",
    "    elif month == 3:\n",
    "        print(astro,\"Pisces\") if day <= 21 else print(astro,\"Aries\")\n",
    "    elif month == 4:\n",
    "        print(astro,\"Aries\") if day <= 21 else print(astro,\"Taurus\")\n",
    "    elif month == 5:\n",
    "        print(astro,\"Taurus\") if day <= 21 else print(astro,\"Gemini\")\n",
    "    elif month == 6:\n",
    "        print(astro,\"Gemini\") if day <= 21 else print(astro,\"Cancer\")\n",
    "    elif month == 7:\n",
    "        print(astro,\"Cancer\") if day <= 22 else print(astro,\"Leo\")\n",
    "    elif month == 8:\n",
    "        print(astro,\"Leo\") if day <= 22 else print(astro,\"Virgo\")\n",
    "    elif month == 9:\n",
    "        print(astro,\"Virgo\") if day <= 22 else print(astro,\"Libra\")\n",
    "    elif month == 10:\n",
    "        print(astro,\"Libra\") if day <= 22 else print(astro,\"Scorpio\")\n",
    "    elif month == 11:\n",
    "        print(astro,\"Scorpio\") if day <= 22 else print(astro,\"Sagittarius\")\n",
    "    elif month == 12:\n",
    "        print(astro,\"Sagittarius\") if day <= 22 else print(astro,\"Capricorn\")\n",
    "\n",
    "zodiac(3,2)"
   ]
  },
  {
   "cell_type": "code",
   "execution_count": 7,
   "metadata": {},
   "outputs": [
    {
     "name": "stdout",
     "output_type": "stream",
     "text": [
      "Your Astrological sign is : Aquarius\n"
     ]
    }
   ],
   "source": [
    "#adjusted perfect\n",
    "astro = \"Your Astrological sign is :\"\n",
    "def zodiac(day, month):\n",
    "    \n",
    "    if month == 1:\n",
    "        if day <= 21:\n",
    "            print(astro,\"Capricorn\")  \n",
    "        else:\n",
    "            print(astro,\"Aquarius\")\n",
    "    elif month == 2:\n",
    "        if day <= 20:\n",
    "            print(astro,\"Aquarius\")  \n",
    "        else:\n",
    "            print(astro,\"Pisces\")\n",
    "    elif month == 3:\n",
    "        if day <= 21:\n",
    "            print(astro,\"Pisces\")\n",
    "        else:\n",
    "            print(astro,\"Aries\")\n",
    "    elif month == 4:\n",
    "        if day <= 21:\n",
    "            print(astro,\"Aries\")\n",
    "        else:\n",
    "            print(astro,\"Taurus\")\n",
    "    elif month == 5:\n",
    "        if day <= 21: \n",
    "            print(astro,\"Taurus\") \n",
    "        else:\n",
    "            print(astro,\"Gemini\")\n",
    "    elif month == 6:\n",
    "        if day <= 21:\n",
    "            print(astro,\"Gemini\") \n",
    "        else:\n",
    "            print(astro,\"Cancer\")\n",
    "    elif month == 7:\n",
    "        if day <= 22:\n",
    "            print(astro,\"Cancer\")  \n",
    "        else:\n",
    "            print(astro,\"Leo\")\n",
    "    elif month == 8:\n",
    "        if day <= 22:\n",
    "            print(astro,\"Leo\") \n",
    "        else:\n",
    "            print(astro,\"Virgo\")\n",
    "    elif month == 9:\n",
    "        if day <= 22:\n",
    "            print(astro,\"Virgo\") \n",
    "        else:\n",
    "            print(astro,\"Libra\")\n",
    "    elif month == 10:\n",
    "        if day <= 22:\n",
    "            print(astro,\"Libra\")  \n",
    "        else:\n",
    "            print(astro,\"Scorpio\")\n",
    "    elif month == 11:\n",
    "        if day <= 22:\n",
    "            print(astro,\"Scorpio\") \n",
    "        else:\n",
    "            print(astro,\"Sagittarius\")\n",
    "    elif month == 12:\n",
    "        if day <= 22:\n",
    "            print(astro,\"Sagittarius\")  \n",
    "        else:\n",
    "            print(astro,\"Capricorn\")\n",
    "\n",
    "zodiac(3,2)"
   ]
  },
  {
   "cell_type": "markdown",
   "metadata": {},
   "source": [
    "---"
   ]
  },
  {
   "cell_type": "markdown",
   "metadata": {},
   "source": [
    "### Submission\n",
    "\n",
    "Upload your completed notebook to moodle. \n",
    "\n",
    "Before submission, **test** your program by restarting the notebook kernel and running your code again."
   ]
  },
  {
   "cell_type": "markdown",
   "metadata": {},
   "source": [
    "---"
   ]
  }
 ],
 "metadata": {
  "kernelspec": {
   "display_name": "Python 3",
   "language": "python",
   "name": "python3"
  },
  "language_info": {
   "codemirror_mode": {
    "name": "ipython",
    "version": 3
   },
   "file_extension": ".py",
   "mimetype": "text/x-python",
   "name": "python",
   "nbconvert_exporter": "python",
   "pygments_lexer": "ipython3",
   "version": "3.7.4"
  }
 },
 "nbformat": 4,
 "nbformat_minor": 2
}
