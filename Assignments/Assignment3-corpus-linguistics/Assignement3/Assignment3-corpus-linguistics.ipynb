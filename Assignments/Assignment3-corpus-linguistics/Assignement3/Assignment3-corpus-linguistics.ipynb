{
 "cells": [
  {
   "cell_type": "markdown",
   "metadata": {},
   "source": [
    "# Assignment: intro to corpus linguistis with Python\n",
    "\n",
    "*Computational Linguistics -- Gianluca E. Lebani*"
   ]
  },
  {
   "cell_type": "markdown",
   "metadata": {},
   "source": [
    "---"
   ]
  },
  {
   "cell_type": "markdown",
   "metadata": {},
   "source": [
    "#### Student's name: Shamira Venturini"
   ]
  },
  {
   "cell_type": "markdown",
   "metadata": {},
   "source": [
    "#### Student's ID: 882125"
   ]
  },
  {
   "cell_type": "markdown",
   "metadata": {},
   "source": [
    "#### By submitting this notebook, you implicitly agree to the following code of conduct:\n",
    "\n",
    ">My answers to homework, quizzes and exams will be my own work (except for assignments that explicitly permit collaboration).\n",
    ">\n",
    ">I will not make solutions to homework, quizzes or exams available to anyone else. This includes both solutions written by me, as well as any official solutions provided by the course staff.\n",
    ">\n",
    ">I will not engage in any other activities that will dishonestly improve my results or dishonestly improve/hurt the results of others.\n",
    "\n",
    "> **source**: from Coursera's [Honor Code](https://www.coursera.org/about/terms/honorcode)"
   ]
  },
  {
   "cell_type": "markdown",
   "metadata": {},
   "source": [
    "---"
   ]
  },
  {
   "cell_type": "code",
   "execution_count": 46,
   "metadata": {},
   "outputs": [],
   "source": [
    "import math\n",
    "import collections\n",
    "import nltk \n",
    "from nltk.corpus import reuters, gutenberg, brown\n",
    "import csv\n",
    "import random\n",
    "import re\n",
    "import matplotlib.pyplot as plt \n",
    "\n",
    "%matplotlib inline "
   ]
  },
  {
   "cell_type": "code",
   "execution_count": 47,
   "metadata": {},
   "outputs": [],
   "source": [
    "plt.rcParams['figure.figsize'] = (15, 10) "
   ]
  },
  {
   "cell_type": "markdown",
   "metadata": {},
   "source": [
    "---"
   ]
  },
  {
   "cell_type": "markdown",
   "metadata": {},
   "source": [
    "### Question 1. (2 points)\n",
    "\n",
    "Use Python to create an artificial collections of words whose distribution **does NOT follow the Zipf's law**. \n",
    "\n",
    "Plot the Zipf's curve to show the effectiveness of your strategy.\n",
    "\n",
    "\n",
    "*Requirements*: \n",
    "\n",
    "- corpus size: approximately 100k tokens\n",
    "\n",
    "- vocabulary size: at least 100 types\n",
    "\n",
    "- your dataset DOES NOT need to be composed of grammatical and/or meaningful sentences"
   ]
  },
  {
   "cell_type": "code",
   "execution_count": 48,
   "metadata": {},
   "outputs": [
    {
     "name": "stdout",
     "output_type": "stream",
     "text": [
      "Corpus size: 104394\n",
      "Vocabulary size: 352\n"
     ]
    },
    {
     "data": {
      "image/png": "[encoded data removed]",
      "text/plain": [
       "<Figure size 1080x720 with 1 Axes>"
      ]
     },
     "metadata": {
      "needs_background": "light"
     },
     "output_type": "display_data"
    }
   ],
   "source": [
    "# your code here\n",
    "random_words = random.sample(list(gutenberg.words()), 200000)\n",
    "gutenberg_count = collections.Counter(random_words)\n",
    "\n",
    "gutenberg_most = []\n",
    "for word, fr in gutenberg_count.items():\n",
    "    if word.isalnum() and fr > 50:\n",
    "        gutenberg_most.append(word.lower())\n",
    "        \n",
    "artificial_corpus = []\n",
    "for word in random_words:\n",
    "    if word in gutenberg_most:\n",
    "            artificial_corpus.append(word)\n",
    "            \n",
    "print(\"Corpus size:\",len(artificial_corpus))\n",
    "print(\"Vocabulary size:\",len(set(artificial_corpus)))\n",
    "\n",
    "y = [word for word in sorted(collections.Counter(artificial_corpus).values(), reverse = True)]\n",
    "x = range(1, len(y) + 1)\n",
    "\n",
    "plt.plot(x, y, \".\", color = \"purple\", markerfacecolor = \"None\")\n",
    "plt.yscale(\"log\")\n",
    "\n",
    "plt.title(\"Demonstration\")\n",
    "plt.ylabel(\"Frequency\")\n",
    "plt.xlabel(\"Rank\")\n",
    "\n",
    "plt.show()\n"
   ]
  },
  {
   "cell_type": "markdown",
   "metadata": {},
   "source": [
    "---"
   ]
  },
  {
   "cell_type": "markdown",
   "metadata": {},
   "source": [
    "### Question 2. (3 points)\n",
    "\n",
    "Go through all the words in the following corpora from the NLTK:\n",
    "\n",
    "- `nltk.corpus.brown`\n",
    "\n",
    "- `nltk.corpus.gutenberg`\n",
    "\n",
    "- `nltk.corpus.reuters`\n",
    "\n",
    "\n",
    "For each corpus:\n",
    "\n",
    "**(1)** calculate its corpus size, its vocabulary size and its number of hapax legomena. Print these statistics nicely formatted as follows:\n",
    "\n",
    "```\n",
    "corpus       corpus_size    vocabulary_size    hapax_legomena\n",
    "brown               xxxx               xxxx              xxxx \n",
    "gutenberg           xxxx               xxxx              xxxx     \n",
    "reuters             xxxx               xxxx              xxxx \n",
    "```\n",
    "\n",
    "**(2)** count the frequency of its types in a case unsensitive way, sort the words by frequency (from the most frequent to the hapax legomena) and store the sorted (word, frequency) pairs in a file labelled `[corpus_name]_frequency_list.txt` formatted as follows (feel free to use the `csv` module or not):\n",
    "\n",
    "```\n",
    "the 90500\n",
    "of 46573 \n",
    "...\n",
    "```\n",
    "\n",
    "NOTE: the separator of the output file is intended to be a single whitespace (i.e. \" \")"
   ]
  },
  {
   "cell_type": "code",
   "execution_count": 49,
   "metadata": {},
   "outputs": [
    {
     "name": "stdout",
     "output_type": "stream",
     "text": [
      "         Corpus     Corpus_size Vocabulary_size  Hapax_Legomena \n",
      "\n",
      "          Brown         1330254           39985           15264\n",
      "          Brown         2136069           50620           20477\n",
      "          Brown         1005119           54294           24470\n"
     ]
    }
   ],
   "source": [
    "# your code here\n",
    "\n",
    "for col_name in [\"Corpus\", \"Corpus_size\", \"Vocabulary_size\", \"Hapax_Legomena\"]:\n",
    "    print(\"%15s\"%col_name, end=\" \")\n",
    "    \n",
    "print()\n",
    "print() \n",
    "\n",
    "Reuters = [word for word in reuters.words() if re.search(r\"[A-Za-z]\", word)]\n",
    "Gutenberg = [word for word in gutenberg.words() if re.search(r\"[A-Za-z]\", word)]\n",
    "Brown = [word for word in brown.words() if re.search(r\"[A-Za-z]\", word)]\n",
    "\n",
    "corpora = {\"Reuters\" : Reuters, \"Gutenberg\" : Gutenberg, \"Brown\" : Brown}\n",
    "\n",
    "for key, value in corpora.items():\n",
    "    print(\"%15s\"%k, \"%15d\"%len(value),\n",
    "          \"%15d\"%len(set(value)), \n",
    "          \"%15d\"%len(collections.Counter([word for word, freq in collections.Counter(value).items() if freq == 1])))\n",
    "\n"
   ]
  },
  {
   "cell_type": "code",
   "execution_count": 50,
   "metadata": {},
   "outputs": [],
   "source": [
    "def frequency_writer_csv(file, corpus):\n",
    "    \"\"\"\n",
    "    This function automatically writes \n",
    "    words frequencies in a csv file\n",
    "    \"\"\"\n",
    "    outfile = open(file, \"w\", encoding = \"utf8\", newline = '')\n",
    "    writer = csv.writer(outfile, delimiter = \" \",quoting = csv.QUOTE_NONE)\n",
    "    \n",
    "    header = [\"Type\", \"Frequency\"]\n",
    "    writer.writerow(header)\n",
    "    \n",
    "    frequency = collections.Counter(corpus)\n",
    "    columns = []\n",
    "    for word, freq in collections.Counter(corpus).most_common():\n",
    "        columns.append([word.lower(), freq])\n",
    "        \n",
    "    for row in columns:\n",
    "        writer.writerow(row)\n",
    "    \n",
    "    outfile.close()"
   ]
  },
  {
   "cell_type": "code",
   "execution_count": 51,
   "metadata": {},
   "outputs": [],
   "source": [
    "frequency_writer_csv(\"reuters_frequency_list.csv\", Reuters)\n",
    "frequency_writer_csv(\"gutenberg_frequency_list.csv\", Gutenberg)\n",
    "frequency_writer_csv(\"brown_frequency_list.csv\", Brown)"
   ]
  },
  {
   "cell_type": "markdown",
   "metadata": {},
   "source": [
    "---"
   ]
  },
  {
   "cell_type": "markdown",
   "metadata": {},
   "source": [
    "### Question 3. (2 points)\n",
    "\n",
    "**(a quick recap)** In class, we've discussed how the Positive Pointwise Mutual Information can be used to weight the raw frequencies, so as to find which words in a corpus co-occur more frequently than chance. Recall that the Positive PMI is claculated as the logarithm of the ratio between observed frequencies and expected frequencies (i.e. the PMI), raising to zero all the negative values (hence, *positive* PMI):"
   ]
  },
  {
   "cell_type": "markdown",
   "metadata": {},
   "source": [
    "$$PPMI (w,c) = max \\left(0, \\ log_2 \\left(\\frac{O}{E}\\right)  \\right) $$"
   ]
  },
  {
   "cell_type": "markdown",
   "metadata": {},
   "source": [
    "- We've implemented this weighting measure with the following function:"
   ]
  },
  {
   "cell_type": "code",
   "execution_count": 52,
   "metadata": {},
   "outputs": [],
   "source": [
    "def ppmi(o_11, r_1, c_1, n):\n",
    "    \"\"\"\n",
    "    \n",
    "    Positive Pointwise Mutual Information (Church & Hanks, 1990)\n",
    "    \n",
    "    o_11>> the observed frequency of w1 and w2 >> f(w1, w2)\n",
    "    r_1 >> w1 marginals >> f(w1, *)\n",
    "    c_1 >> w2 marginals >> f(*, w2)\n",
    "    n >> total number of possible coccorrencies >> f(*, *)\n",
    "    \"\"\"\n",
    "    observed = o_11\n",
    "    expected = (r_1*c_1)/n \n",
    "    res = math.log(observed/expected,2)\n",
    "    return max(0, res)"
   ]
  },
  {
   "cell_type": "markdown",
   "metadata": {},
   "source": [
    "- For instance, the association strength of the adjective \"*long*\" (whose absolute frequency is 590) and the noun *\"time\"* (whose absolute frequency is 1,815), that co-occur 60 times in a 2,268,839 tokens corpus, is calculated as follows:"
   ]
  },
  {
   "cell_type": "code",
   "execution_count": 53,
   "metadata": {},
   "outputs": [
    {
     "data": {
      "text/plain": [
       "6.990088424777736"
      ]
     },
     "execution_count": 53,
     "metadata": {},
     "output_type": "execute_result"
    }
   ],
   "source": [
    "ppmi(60, 590, 1815, 2268839) "
   ]
  },
  {
   "cell_type": "markdown",
   "metadata": {},
   "source": [
    "It follows that a major role in the calculation of the strength of association between two words is played by the strategy used to **count** and **filter** the co-occurrences. In this exercise you will experiment with the former. Of the three strategies described by Evert (2009), the most widely used is the one used to count the **surface co-coccurrences**, where a major source of variation if the size and shape of the **collocational span** (i.e. how many words to the left and/or right of the a given word)."
   ]
  },
  {
   "cell_type": "markdown",
   "metadata": {},
   "source": [
    "#### Your task:\n",
    "\n",
    "In this exercise you are required to estimate the PPMI between **nouns** using three different collocational spans:\n",
    "\n",
    "- a symmetric ±2 words span (i.e. 2 words at the left and two words at the right of the target word)\n",
    "\n",
    "- a symmetric ±5 words span\n",
    "\n",
    "- a symmetric ±20 words span\n",
    "\n",
    "For each collocational span, print the **top 50 associated pairs**. Note that, due to the nature of the exercise, you are expected to print a lot of repeated word pairs, such as `('Hong-NOUN', 'Kong-NOUN')` and `('Kong-NOUN', 'Hong-NOUN')`.\n",
    "\n",
    "*Requirements*:\n",
    "\n",
    "- **filtering strategy**: filter out all the nouns occurring less than 10 times in the whole corpus (i.e. whose *marginal* frquency is lower than 10) and the nouns whose lemma is less than 3 characters long\n",
    "\n",
    "- **corpus**: extract the co-occurrence frequencies from the **sentence splitted**, **tokenized**, **pos-tagged** and **lemmatized** version of the Brown corpus that can be gerated by the following code:"
   ]
  },
  {
   "cell_type": "code",
   "execution_count": 54,
   "metadata": {},
   "outputs": [],
   "source": [
    "# your code here\n",
    "\n",
    "def brown_nouns_ppmis(spansize):\n",
    "    \"\"\"\n",
    "    This function estimate the PPMI between nouns in the Brown Corpus.\n",
    "    \n",
    "    For any collocational span, it returns the top 50 associated pairs.\n",
    "    \"\"\"\n",
    "       \n",
    "    print(\"\\t\\t *** collocational span: ±\", spansize, \"***\")\n",
    "    \n",
    "    un2wn_mapping = {\"VERB\" : \"v\", \"NOUN\" : \"n\", \"ADJ\" : \"a\", \"ADV\" : \"r\"}\n",
    "\n",
    "    brown_lemmatized = []\n",
    "\n",
    "    for sentence in nltk.corpus.brown.tagged_sents(tagset='universal'):\n",
    "        lemmatized_sentence = []\n",
    "        for word, p in sentence:\n",
    "            if p in [\".\", \"X\"]:\n",
    "                continue\n",
    "            elif p in un2wn_mapping.keys():\n",
    "                 lemma = nltk.WordNetLemmatizer().lemmatize(word, pos = un2wn_mapping[p])\n",
    "            else:\n",
    "                lemma = nltk.WordNetLemmatizer().lemmatize(word)\n",
    "            lemmatized_sentence.append((lemma, p))\n",
    "        \n",
    "        brown_lemmatized.append(lemmatized_sentence)\n",
    "        \n",
    "    brown_lemmatized_words = []\n",
    "    for sent in brown_lemmatized:\n",
    "        brown_lemmatized_words.extend(sent)\n",
    "    \n",
    "    brown_lemmas_frequencies = collections.Counter(brown_lemmatized_words)\n",
    "\n",
    "    brown_noun_frequencies = collections.Counter(\n",
    "        [word for word, freq in brown_lemmas_frequencies.items() if word[1] == \"NOUN\" and len(word[0]) > 3 and freq > 10])\n",
    "\n",
    "\n",
    "    cooccs_surface = collections.Counter()\n",
    "\n",
    "    for sentence in brown_lemmatized:\n",
    "        for i, token in enumerate(sentence):\n",
    "            if token[1] == \"NOUN\":\n",
    "                span_range = list(range(max(i- spansize, 0), i))  \n",
    "                span_range.extend(range(i+1, min(i + spansize + 1, len(sentence))))  \n",
    "                for cw in [sentence[idx] for idx in span_range]:\n",
    "                        cooccs_surface[token, cw] += 1\n",
    "                    \n",
    "            \n",
    "    filtered_cooccs_surface = collections.Counter()    \n",
    "    \n",
    "    for (target, context), freq in cooccs_surface.items():\n",
    "        if target in brown_noun_frequencies\\\n",
    "        and context in brown_noun_frequencies:\n",
    "            filtered_cooccs_surface[(target, context)] = freq\n",
    "            \n",
    "    ppmis_surface = collections.Counter()\n",
    "\n",
    "    N = sum(cooccs_surface.values())  \n",
    "\n",
    "    for k,v in filtered_cooccs_surface.items():\n",
    "            ppmis_surface[k] = ppmi(\n",
    "                v, brown_lemmas_frequencies[k[0]],\n",
    "                brown_lemmas_frequencies[k[1]], N)\n",
    "            \n",
    "\n",
    "    return ppmis_surface.most_common(50)"
   ]
  },
  {
   "cell_type": "code",
   "execution_count": 55,
   "metadata": {},
   "outputs": [
    {
     "name": "stdout",
     "output_type": "stream",
     "text": [
      "\t\t *** collocational span: ± 5 ***\n"
     ]
    },
    {
     "data": {
      "text/plain": [
       "[((('Hong', 'NOUN'), ('Kong', 'NOUN')), 17.654091187664235),\n",
       " ((('Kong', 'NOUN'), ('Hong', 'NOUN')), 17.654091187664235),\n",
       " ((('Simms', 'NOUN'), ('Purdew', 'NOUN')), 17.026059965051196),\n",
       " ((('Purdew', 'NOUN'), ('Simms', 'NOUN')), 17.026059965051196),\n",
       " ((('Islands', 'NOUN'), ('Guam', 'NOUN')), 16.818066922775362),\n",
       " ((('Guam', 'NOUN'), ('Islands', 'NOUN')), 16.818066922775362),\n",
       " ((('Herald', 'NOUN'), ('Tribune', 'NOUN')), 16.76100639158075),\n",
       " ((('Tribune', 'NOUN'), ('Herald', 'NOUN')), 16.76100639158075),\n",
       " ((('tablespoon', 'NOUN'), ('tablespoon', 'NOUN')), 16.71264337001935),\n",
       " ((('Rico', 'NOUN'), ('Guam', 'NOUN')), 16.595674501438914),\n",
       " ((('Guam', 'NOUN'), ('Rico', 'NOUN')), 16.595674501438914),\n",
       " ((('Puerto', 'NOUN'), ('Rico', 'NOUN')), 16.528560305580378),\n",
       " ((('Rico', 'NOUN'), ('Puerto', 'NOUN')), 16.528560305580378),\n",
       " ((('Puerto', 'NOUN'), ('Guam', 'NOUN')), 16.40302942349652),\n",
       " ((('Virgin', 'NOUN'), ('Guam', 'NOUN')), 16.40302942349652),\n",
       " ((('Guam', 'NOUN'), ('Puerto', 'NOUN')), 16.40302942349652),\n",
       " ((('Guam', 'NOUN'), ('Virgin', 'NOUN')), 16.40302942349652),\n",
       " ((('Saxon', 'NOUN'), ('Shore', 'NOUN')), 16.39611000955673),\n",
       " ((('Shore', 'NOUN'), ('Saxon', 'NOUN')), 16.39611000955673),\n",
       " ((('Kohnstamm', 'NOUN'), ('reactivity', 'NOUN')), 16.33508057615917),\n",
       " ((('reactivity', 'NOUN'), ('Kohnstamm', 'NOUN')), 16.33508057615917),\n",
       " ((('drainage', 'NOUN'), ('ditch', 'NOUN')), 16.27557956441051),\n",
       " ((('ditch', 'NOUN'), ('drainage', 'NOUN')), 16.27557956441051),\n",
       " ((('precinct', 'NOUN'), ('ward', 'NOUN')), 16.239053688385393),\n",
       " ((('ward', 'NOUN'), ('precinct', 'NOUN')), 16.239053688385393),\n",
       " ((('Hawaii', 'NOUN'), ('Alaska', 'NOUN')), 16.239053688385393),\n",
       " ((('Alaska', 'NOUN'), ('Hawaii', 'NOUN')), 16.239053688385393),\n",
       " ((('tent', 'NOUN'), ('tent', 'NOUN')), 16.206632210693016),\n",
       " ((('Hillsboro', 'NOUN'), ('Hillsboro', 'NOUN')), 16.19465956902694),\n",
       " ((('Kehl', 'NOUN'), ('Kehl', 'NOUN')), 16.19465956902694),\n",
       " ((('Beverly', 'NOUN'), ('Hills', 'NOUN')), 16.190690666823993),\n",
       " ((('Hills', 'NOUN'), ('Beverly', 'NOUN')), 16.190690666823993),\n",
       " ((('Rico', 'NOUN'), ('Islands', 'NOUN')), 16.136242882801618),\n",
       " ((('Islands', 'NOUN'), ('Rico', 'NOUN')), 16.136242882801618),\n",
       " ((('carbon', 'NOUN'), ('tetrachloride', 'NOUN')), 16.128629698691743),\n",
       " ((('tetrachloride', 'NOUN'), ('carbon', 'NOUN')), 16.128629698691743),\n",
       " ((('Virgin', 'NOUN'), ('Islands', 'NOUN')), 16.05907502227916),\n",
       " ((('Islands', 'NOUN'), ('Virgin', 'NOUN')), 16.05907502227916),\n",
       " ((('Onset', 'NOUN'), ('Completion', 'NOUN')), 16.004998349523365),\n",
       " ((('Completion', 'NOUN'), ('Onset', 'NOUN')), 16.004998349523365),\n",
       " ((('oxidation', 'NOUN'), ('pond', 'NOUN')), 15.995128105499305),\n",
       " ((('pond', 'NOUN'), ('oxidation', 'NOUN')), 15.995128105499305),\n",
       " ((('Declaration', 'NOUN'), ('Independence', 'NOUN')), 15.987991924217674),\n",
       " ((('Independence', 'NOUN'), ('Declaration', 'NOUN')), 15.987991924217674),\n",
       " ((('Willie', 'NOUN'), ('Mays', 'NOUN')), 15.953651469523145),\n",
       " ((('Mays', 'NOUN'), ('Willie', 'NOUN')), 15.953651469523145),\n",
       " ((('Puerto', 'NOUN'), ('Islands', 'NOUN')), 15.943597804859223),\n",
       " ((('Islands', 'NOUN'), ('Puerto', 'NOUN')), 15.943597804859223),\n",
       " ((('Income', 'NOUN'), ('Income', 'NOUN')), 15.943597804859223),\n",
       " ((('juice', 'NOUN'), ('orange', 'NOUN')), 15.828120587439287)]"
      ]
     },
     "execution_count": 55,
     "metadata": {},
     "output_type": "execute_result"
    }
   ],
   "source": [
    "brown_nouns_ppmis(5) "
   ]
  },
  {
   "cell_type": "code",
   "execution_count": 56,
   "metadata": {},
   "outputs": [
    {
     "name": "stdout",
     "output_type": "stream",
     "text": [
      "\t\t *** collocational span: ± 2 ***\n"
     ]
    },
    {
     "data": {
      "text/plain": [
       "[((('Hong', 'NOUN'), ('Kong', 'NOUN')), 16.45072212866628),\n",
       " ((('Kong', 'NOUN'), ('Hong', 'NOUN')), 16.45072212866628),\n",
       " ((('Simms', 'NOUN'), ('Purdew', 'NOUN')), 15.822690906053237),\n",
       " ((('Purdew', 'NOUN'), ('Simms', 'NOUN')), 15.822690906053237),\n",
       " ((('Herald', 'NOUN'), ('Tribune', 'NOUN')), 15.557637332582791),\n",
       " ((('Tribune', 'NOUN'), ('Herald', 'NOUN')), 15.557637332582791),\n",
       " ((('Islands', 'NOUN'), ('Guam', 'NOUN')), 15.47719434002747),\n",
       " ((('Guam', 'NOUN'), ('Islands', 'NOUN')), 15.47719434002747),\n",
       " ((('Puerto', 'NOUN'), ('Rico', 'NOUN')), 15.32519124658242),\n",
       " ((('Rico', 'NOUN'), ('Puerto', 'NOUN')), 15.32519124658242),\n",
       " ((('Virgin', 'NOUN'), ('Guam', 'NOUN')), 15.199660364498563),\n",
       " ((('Guam', 'NOUN'), ('Virgin', 'NOUN')), 15.199660364498563),\n",
       " ((('Saxon', 'NOUN'), ('Shore', 'NOUN')), 15.077263733138835),\n",
       " ((('Shore', 'NOUN'), ('Saxon', 'NOUN')), 15.077263733138835),\n",
       " ((('drainage', 'NOUN'), ('ditch', 'NOUN')), 15.072210505412551),\n",
       " ((('ditch', 'NOUN'), ('drainage', 'NOUN')), 15.072210505412551),\n",
       " ((('Guam', 'NOUN'), ('Puerto', 'NOUN')), 15.062156840748626),\n",
       " ((('Puerto', 'NOUN'), ('Guam', 'NOUN')), 15.062156840748626),\n",
       " ((('Hawaii', 'NOUN'), ('Alaska', 'NOUN')), 15.035684629387436),\n",
       " ((('Alaska', 'NOUN'), ('Hawaii', 'NOUN')), 15.035684629387436),\n",
       " ((('Beverly', 'NOUN'), ('Hills', 'NOUN')), 14.987321607826038),\n",
       " ((('Hills', 'NOUN'), ('Beverly', 'NOUN')), 14.987321607826038),\n",
       " ((('Kohnstamm', 'NOUN'), ('reactivity', 'NOUN')), 14.961786515718899),\n",
       " ((('reactivity', 'NOUN'), ('Kohnstamm', 'NOUN')), 14.961786515718899),\n",
       " ((('carbon', 'NOUN'), ('tetrachloride', 'NOUN')), 14.925260639693786),\n",
       " ((('tetrachloride', 'NOUN'), ('carbon', 'NOUN')), 14.925260639693786),\n",
       " ((('Virgin', 'NOUN'), ('Islands', 'NOUN')), 14.855705963281201),\n",
       " ((('Islands', 'NOUN'), ('Virgin', 'NOUN')), 14.855705963281201),\n",
       " ((('oxidation', 'NOUN'), ('pond', 'NOUN')), 14.791759046501348),\n",
       " ((('pond', 'NOUN'), ('oxidation', 'NOUN')), 14.791759046501348),\n",
       " ((('Declaration', 'NOUN'), ('Independence', 'NOUN')), 14.784622865219717),\n",
       " ((('Independence', 'NOUN'), ('Declaration', 'NOUN')), 14.784622865219717),\n",
       " ((('Willie', 'NOUN'), ('Mays', 'NOUN')), 14.750282410525188),\n",
       " ((('Mays', 'NOUN'), ('Willie', 'NOUN')), 14.750282410525188),\n",
       " ((('Vincent', 'NOUN'), ('Berger', 'NOUN')), 14.562690560309075),\n",
       " ((('Berger', 'NOUN'), ('Vincent', 'NOUN')), 14.562690560309075),\n",
       " ((('Delphine', 'NOUN'), ('Lalaurie', 'NOUN')), 14.559656500219443),\n",
       " ((('Lalaurie', 'NOUN'), ('Delphine', 'NOUN')), 14.559656500219443),\n",
       " ((('lantern', 'NOUN'), ('slide', 'NOUN')), 14.500762811165874),\n",
       " ((('slide', 'NOUN'), ('lantern', 'NOUN')), 14.500762811165874),\n",
       " ((('Madame', 'NOUN'), ('Lalaurie', 'NOUN')), 14.500762811165874),\n",
       " ((('Lalaurie', 'NOUN'), ('Madame', 'NOUN')), 14.500762811165874),\n",
       " ((('Stone', 'NOUN'), ('Harbor', 'NOUN')), 14.280797127223968),\n",
       " ((('Harbor', 'NOUN'), ('Stone', 'NOUN')), 14.280797127223968),\n",
       " ((('wildlife', 'NOUN'), ('habitat', 'NOUN')), 14.254801918691022),\n",
       " ((('habitat', 'NOUN'), ('wildlife', 'NOUN')), 14.254801918691022),\n",
       " ((('combustion', 'NOUN'), ('chamber', 'NOUN')), 14.209714029162484),\n",
       " ((('chamber', 'NOUN'), ('combustion', 'NOUN')), 14.209714029162484),\n",
       " ((('orange', 'NOUN'), ('juice', 'NOUN')), 14.209714029162484),\n",
       " ((('juice', 'NOUN'), ('orange', 'NOUN')), 14.209714029162484)]"
      ]
     },
     "execution_count": 56,
     "metadata": {},
     "output_type": "execute_result"
    }
   ],
   "source": [
    "brown_nouns_ppmis(2)  "
   ]
  },
  {
   "cell_type": "code",
   "execution_count": 57,
   "metadata": {},
   "outputs": [
    {
     "name": "stdout",
     "output_type": "stream",
     "text": [
      "\t\t *** collocational span: ± 20 ***\n"
     ]
    },
    {
     "data": {
      "text/plain": [
       "[((('Pathology', 'NOUN'), ('Pathology', 'NOUN')), 19.338867766228667),\n",
       " ((('Hong', 'NOUN'), ('Kong', 'NOUN')), 19.2359214645151),\n",
       " ((('Kong', 'NOUN'), ('Hong', 'NOUN')), 19.2359214645151),\n",
       " ((('tablespoon', 'NOUN'), ('tablespoon', 'NOUN')), 18.860820469424024),\n",
       " ((('precinct', 'NOUN'), ('precinct', 'NOUN')), 18.857409841261372),\n",
       " ((('python', 'NOUN'), ('python', 'NOUN')), 18.646990061590998),\n",
       " ((('Hillsboro', 'NOUN'), ('Hillsboro', 'NOUN')), 18.53548174637401),\n",
       " ((('sodium', 'NOUN'), ('sodium', 'NOUN')), 18.53548174637401),\n",
       " ((('tent', 'NOUN'), ('tent', 'NOUN')), 18.498544787559137),\n",
       " ((('precinct', 'NOUN'), ('ward', 'NOUN')), 18.497413705540488),\n",
       " ((('ward', 'NOUN'), ('precinct', 'NOUN')), 18.497413705540488),\n",
       " ((('Simms', 'NOUN'), ('Purdew', 'NOUN')), 18.366882142398264),\n",
       " ((('Purdew', 'NOUN'), ('Simms', 'NOUN')), 18.366882142398264),\n",
       " ((('Islands', 'NOUN'), ('Guam', 'NOUN')), 18.158889100122433),\n",
       " ((('Guam', 'NOUN'), ('Islands', 'NOUN')), 18.158889100122433),\n",
       " ((('Herald', 'NOUN'), ('Tribune', 'NOUN')), 18.101828568927818),\n",
       " ((('Tribune', 'NOUN'), ('Herald', 'NOUN')), 18.101828568927818),\n",
       " ((('Saxon', 'NOUN'), ('Shore', 'NOUN')), 18.036492468762706),\n",
       " ((('Shore', 'NOUN'), ('Saxon', 'NOUN')), 18.036492468762706),\n",
       " ((('drain', 'NOUN'), ('drain', 'NOUN')), 17.96249188731893),\n",
       " ((('Rico', 'NOUN'), ('Guam', 'NOUN')), 17.936496678785986),\n",
       " ((('Guam', 'NOUN'), ('Rico', 'NOUN')), 17.936496678785986),\n",
       " ((('Pathology', 'NOUN'), ('Laboratory', 'NOUN')), 17.934477511149332),\n",
       " ((('Laboratory', 'NOUN'), ('Pathology', 'NOUN')), 17.934477511149332),\n",
       " ((('vapor', 'NOUN'), ('helium', 'NOUN')), 17.89537769146039),\n",
       " ((('helium', 'NOUN'), ('vapor', 'NOUN')), 17.89537769146039),\n",
       " ((('Puerto', 'NOUN'), ('Rico', 'NOUN')), 17.86938248292745),\n",
       " ((('Rico', 'NOUN'), ('Puerto', 'NOUN')), 17.86938248292745),\n",
       " ((('incest', 'NOUN'), ('incest', 'NOUN')), 17.86938248292745),\n",
       " ((('Income', 'NOUN'), ('Income', 'NOUN')), 17.86938248292745),\n",
       " ((('Grandma', 'NOUN'), ('Grandma', 'NOUN')), 17.86938248292745),\n",
       " ((('principal', 'NOUN'), ('$1,000', 'NOUN')), 17.857409841261372),\n",
       " ((('$1,000', 'NOUN'), ('principal', 'NOUN')), 17.857409841261372),\n",
       " ((('tablespoon', 'NOUN'), ('mustard', 'NOUN')), 17.836367425699486),\n",
       " ((('mustard', 'NOUN'), ('tablespoon', 'NOUN')), 17.836367425699486),\n",
       " ((('Hawaii', 'NOUN'), ('Alaska', 'NOUN')), 17.80226828706891),\n",
       " ((('Alaska', 'NOUN'), ('Hawaii', 'NOUN')), 17.80226828706891),\n",
       " ((('carbon', 'NOUN'), ('tetrachloride', 'NOUN')), 17.758958493233795),\n",
       " ((('tetrachloride', 'NOUN'), ('carbon', 'NOUN')), 17.758958493233795),\n",
       " ((('Puerto', 'NOUN'), ('Guam', 'NOUN')), 17.743851600843588),\n",
       " ((('Virgin', 'NOUN'), ('Guam', 'NOUN')), 17.743851600843588),\n",
       " ((('Guam', 'NOUN'), ('Puerto', 'NOUN')), 17.743851600843588),\n",
       " ((('Guam', 'NOUN'), ('Virgin', 'NOUN')), 17.743851600843588),\n",
       " ((('Onset', 'NOUN'), ('Completion', 'NOUN')), 17.70839060625514),\n",
       " ((('Completion', 'NOUN'), ('Onset', 'NOUN')), 17.70839060625514),\n",
       " ((('Utopia', 'NOUN'), ('More', 'NOUN')), 17.683515937616114),\n",
       " ((('More', 'NOUN'), ('Utopia', 'NOUN')), 17.683515937616114),\n",
       " ((('Kohnstamm', 'NOUN'), ('reactivity', 'NOUN')), 17.675902753506236),\n",
       " ((('reactivity', 'NOUN'), ('Kohnstamm', 'NOUN')), 17.675902753506236),\n",
       " ((('Ave.', 'NOUN'), ('Ave.', 'NOUN')), 17.638428048087576)]"
      ]
     },
     "execution_count": 57,
     "metadata": {},
     "output_type": "execute_result"
    }
   ],
   "source": [
    "brown_nouns_ppmis(20)  "
   ]
  },
  {
   "cell_type": "markdown",
   "metadata": {},
   "source": [
    "---"
   ]
  },
  {
   "cell_type": "markdown",
   "metadata": {},
   "source": [
    "### Question 4. (1 point)\n",
    "\n",
    "Rewrite the code from exercise 3 in order to print, for each collocational span, the **top 50 DISTINCT associated pairs**. \n",
    "\n",
    "That is, rearrange (a relevant portion of) your code so that repeated entries, like `('Hong-NOUN', 'Kong-NOUN')` and `('Kong-NOUN', 'Hong-NOUN')`, will be printed just **once** (the rleative order of the nouns in each entry is irrelevant)."
   ]
  },
  {
   "cell_type": "code",
   "execution_count": 58,
   "metadata": {},
   "outputs": [],
   "source": [
    "# your code here\n",
    "\n",
    "def brown_different_nouns_ppmis(spansize):\n",
    "    \"\"\"\n",
    "    This function estimate the PPMI between nouns in the Brown Corpus.\n",
    "    \n",
    "    For any collocational span, it returns the top distinct 50 associated pairs.\n",
    "    \"\"\"\n",
    "    \n",
    "    print(\"\\t\\t *** collocational span: ±\", spansize, \"***\")\n",
    "    \n",
    "    un2wn_mapping = {\"VERB\" : \"v\", \"NOUN\" : \"n\", \"ADJ\" : \"a\", \"ADV\" : \"r\"}\n",
    "\n",
    "    brown_lemmatized = []\n",
    "\n",
    "    for sentence in nltk.corpus.brown.tagged_sents(tagset='universal'):\n",
    "        lemmatized_sentence = []\n",
    "        for word, p in sentence:\n",
    "            if p in [\".\", \"X\"]:\n",
    "                continue\n",
    "            elif p in un2wn_mapping.keys():\n",
    "                 lemma = nltk.WordNetLemmatizer().lemmatize(word, pos = un2wn_mapping[p])\n",
    "            else:\n",
    "                lemma = nltk.WordNetLemmatizer().lemmatize(word)\n",
    "            lemmatized_sentence.append((lemma, p))\n",
    "        \n",
    "        brown_lemmatized.append(lemmatized_sentence)\n",
    "        \n",
    "    brown_lemmatized_words = []\n",
    "    for sent in brown_lemmatized:\n",
    "        brown_lemmatized_words.extend(sent)\n",
    "    \n",
    "    brown_lemmas_frequencies = collections.Counter(brown_lemmatized_words)\n",
    "\n",
    "    brown_noun_frequencies = collections.Counter(\n",
    "        [word for word, freq in brown_lemmas_frequencies.items() if word[1] == \"NOUN\" and len(word[0]) > 3 and freq > 10])\n",
    "\n",
    "\n",
    "    cooccs_surface = collections.Counter()\n",
    "\n",
    "    for sentence in brown_lemmatized:\n",
    "        for i, token in enumerate(sentence):\n",
    "            if token[1] == \"NOUN\":\n",
    "                span_range = list(range(max(i- spansize, 0), i))  \n",
    "                span_range.extend(range(i+1, min(i + spansize + 1, len(sentence))))  \n",
    "                for cw in [sentence[idx] for idx in span_range]:\n",
    "                        cooccs_surface[token, cw] += 1\n",
    "                        \n",
    "    filtered_cooccs_surface = collections.Counter()    \n",
    "    \n",
    "    for (target, context), freq in cooccs_surface.items():\n",
    "        if target in brown_noun_frequencies\\\n",
    "        and context in brown_noun_frequencies:\n",
    "            filtered_cooccs_surface[(target, context)] = freq\n",
    "    \n",
    "    ppmis_surface = collections.Counter()\n",
    "\n",
    "    N = sum(cooccs_surface.values())  \n",
    "\n",
    "    for key,value in filtered_cooccs_surface.items():\n",
    "            ppmis_surface[key] = ppmi(\n",
    "                value, brown_lemmas_frequencies[key[0]],\n",
    "                brown_lemmas_frequencies[key[1]], N)\n",
    "            \n",
    "    new_ppmis_surface = collections.Counter()\n",
    "    \n",
    "    for key, freq in ppmis_surface.most_common():\n",
    "        if freq not in new_ppmis_surface:\n",
    "            new_ppmis_surface.update((key, freq))\n",
    "            \n",
    "    final_ppmis_surface = [key for key in new_ppmis_surface.keys()]\n",
    "        \n",
    "\n",
    "    return final_ppmis_surface[:50]"
   ]
  },
  {
   "cell_type": "code",
   "execution_count": 59,
   "metadata": {},
   "outputs": [
    {
     "name": "stdout",
     "output_type": "stream",
     "text": [
      "\t\t *** collocational span: ± 5 ***\n"
     ]
    },
    {
     "data": {
      "text/plain": [
       "[(('Hong', 'NOUN'), ('Kong', 'NOUN')),\n",
       " 17.654091187664235,\n",
       " (('Simms', 'NOUN'), ('Purdew', 'NOUN')),\n",
       " 17.026059965051196,\n",
       " (('Islands', 'NOUN'), ('Guam', 'NOUN')),\n",
       " 16.818066922775362,\n",
       " (('Herald', 'NOUN'), ('Tribune', 'NOUN')),\n",
       " 16.76100639158075,\n",
       " (('tablespoon', 'NOUN'), ('tablespoon', 'NOUN')),\n",
       " 16.71264337001935,\n",
       " (('Rico', 'NOUN'), ('Guam', 'NOUN')),\n",
       " 16.595674501438914,\n",
       " (('Puerto', 'NOUN'), ('Rico', 'NOUN')),\n",
       " 16.528560305580378,\n",
       " (('Puerto', 'NOUN'), ('Guam', 'NOUN')),\n",
       " 16.40302942349652,\n",
       " (('Saxon', 'NOUN'), ('Shore', 'NOUN')),\n",
       " 16.39611000955673,\n",
       " (('Kohnstamm', 'NOUN'), ('reactivity', 'NOUN')),\n",
       " 16.33508057615917,\n",
       " (('drainage', 'NOUN'), ('ditch', 'NOUN')),\n",
       " 16.27557956441051,\n",
       " (('precinct', 'NOUN'), ('ward', 'NOUN')),\n",
       " 16.239053688385393,\n",
       " (('tent', 'NOUN'), ('tent', 'NOUN')),\n",
       " 16.206632210693016,\n",
       " (('Hillsboro', 'NOUN'), ('Hillsboro', 'NOUN')),\n",
       " 16.19465956902694,\n",
       " (('Beverly', 'NOUN'), ('Hills', 'NOUN')),\n",
       " 16.190690666823993,\n",
       " (('Rico', 'NOUN'), ('Islands', 'NOUN')),\n",
       " 16.136242882801618,\n",
       " (('carbon', 'NOUN'), ('tetrachloride', 'NOUN')),\n",
       " 16.128629698691743,\n",
       " (('Virgin', 'NOUN'), ('Islands', 'NOUN')),\n",
       " 16.05907502227916,\n",
       " (('Onset', 'NOUN'), ('Completion', 'NOUN')),\n",
       " 16.004998349523365,\n",
       " (('oxidation', 'NOUN'), ('pond', 'NOUN')),\n",
       " 15.995128105499305,\n",
       " (('Declaration', 'NOUN'), ('Independence', 'NOUN')),\n",
       " 15.987991924217674,\n",
       " (('Willie', 'NOUN'), ('Mays', 'NOUN')),\n",
       " 15.953651469523145,\n",
       " (('Puerto', 'NOUN'), ('Islands', 'NOUN')),\n",
       " 15.943597804859223,\n",
       " (('juice', 'NOUN'), ('orange', 'NOUN')),\n",
       " 15.828120587439287,\n",
       " (('Vincent', 'NOUN'), ('Berger', 'NOUN')),\n",
       " 15.766059619307034]"
      ]
     },
     "execution_count": 59,
     "metadata": {},
     "output_type": "execute_result"
    }
   ],
   "source": [
    " brown_different_nouns_ppmis(5)"
   ]
  },
  {
   "cell_type": "markdown",
   "metadata": {},
   "source": [
    "---"
   ]
  },
  {
   "cell_type": "markdown",
   "metadata": {},
   "source": [
    "### Question 5. (2 points)\n",
    "\n"
   ]
  },
  {
   "cell_type": "markdown",
   "metadata": {},
   "source": [
    "One of the main issue of the PPMI is its tendency to give excessive scores to word pairs that involve low frequency words. One of the possible ways of dealing with this bias is to raise the observed frequencies to the power of a constant *k*, as follows: "
   ]
  },
  {
   "cell_type": "markdown",
   "metadata": {},
   "source": [
    "$$PPMI^k (w,c) = max \\left(0, \\ log_2 \\left(\\frac{O^k}{E}\\right)  \\right) $$"
   ]
  },
  {
   "cell_type": "markdown",
   "metadata": {},
   "source": [
    "Different measures can be obatined by setting different values for *k*:"
   ]
  },
  {
   "cell_type": "markdown",
   "metadata": {},
   "source": [
    "$$PPMI^2 (w,c) = max \\left(0, \\ log_2 \\left(\\frac{O^2}{E}\\right)  \\right) $$"
   ]
  },
  {
   "cell_type": "markdown",
   "metadata": {},
   "source": [
    "$$PPMI^{0.5} (w,c) = max \\left(0, \\ log_2 \\left(\\frac{O^{0.5}}{E}\\right)  \\right) $$"
   ]
  },
  {
   "cell_type": "markdown",
   "metadata": {},
   "source": [
    "**(1)** Implement a function called `ppmi_k()` that calculates this association measure from the following arguments:\n",
    "\n",
    "    - o_11: the observed frequency of w1 and w2\n",
    "    - r_1: w1 marginals\n",
    "    - c_1: w2 marginals\n",
    "    - n: total number of possible coccorrencies\n",
    "    - k: the value of the exponent that is applied to the observed frequencies \n",
    "    \n",
    "Note that when `k = 1` this function should return the same result of the above defined `ppmi()` function"
   ]
  },
  {
   "cell_type": "code",
   "execution_count": 60,
   "metadata": {},
   "outputs": [],
   "source": [
    "# your code here\n",
    "def ppmi_k(o_11, k, r_1, c_1, n):\n",
    "    \"\"\"\n",
    "    Positive Pointwise Mutual Information (Church & Hanks, 1990)\n",
    "    \n",
    "    o_11>> the observed frequency of w1 and w2 >> f(w1, w2)\n",
    "    r_1 >> w1 marginals >> f(w1, *)\n",
    "    c_1 >> w2 marginals >> f(*, w2)\n",
    "    n >> total number of possible coccorrencies >> f(*, *)\n",
    "    k >> the value of the exponent that is applied to the observed frequencies \n",
    "    \"\"\"\n",
    "\n",
    "    observed = o_11 \n",
    "    expected = (r_1*c_1)/n \n",
    "    res = math.log(observed**k/expected,2)\n",
    "    return max(0, res)"
   ]
  },
  {
   "cell_type": "code",
   "execution_count": 61,
   "metadata": {},
   "outputs": [
    {
     "data": {
      "text/plain": [
       "6.990088424777736"
      ]
     },
     "execution_count": 61,
     "metadata": {},
     "output_type": "execute_result"
    }
   ],
   "source": [
    "ppmi_k(60, 1, 590, 1815, 2268839) "
   ]
  },
  {
   "cell_type": "markdown",
   "metadata": {},
   "source": [
    "**(2)** Test the effect of the *k* parameter by using PPMI$^k$ to weight the frequencies you've extracted in exercise 3 by using a symmetric ±5 words spam (use the same filtering strategy as well), and varying exponent that is applied to the observed frequencies as follows:\n",
    "\n",
    "\n",
    "- `k  = 0.2`\n",
    "\n",
    "- `k = 1` (note that this setting should replicate one the settings in exercise 3)\n",
    "\n",
    "- `k = 5`\n",
    "\n",
    "For each setting, print the **top 50 DISTINCT associated pairs** (i.e. print repeated entries like `('Hong-NOUN', 'Kong-NOUN')` and `('Kong-NOUN', 'Hong-NOUN')` just once)."
   ]
  },
  {
   "cell_type": "code",
   "execution_count": 62,
   "metadata": {},
   "outputs": [],
   "source": [
    "# your code here\n",
    "def brown_nouns_ppmis_k(constant):\n",
    "    \"\"\"\n",
    "    This function estimate the PPMI between nouns in the Brown Corpus.\n",
    "    \n",
    "    For any collocational span, it returns the top distinct 50 associated pairs.\n",
    "    \"\"\"\n",
    "    print(\"\\t\\t *** exponent: k =\", constant, \"***\")\n",
    "    \n",
    "    un2wn_mapping = {\"VERB\" : \"v\", \"NOUN\" : \"n\", \"ADJ\" : \"a\", \"ADV\" : \"r\"}\n",
    "\n",
    "    brown_lemmatized = []\n",
    "\n",
    "    for sentence in nltk.corpus.brown.tagged_sents(tagset='universal'):\n",
    "        lemmatized_sentence = []\n",
    "        for word, p in sentence:\n",
    "            if p in [\".\", \"X\"]:\n",
    "                continue\n",
    "            elif p in un2wn_mapping.keys():\n",
    "                 lemma = nltk.WordNetLemmatizer().lemmatize(word, pos = un2wn_mapping[p])\n",
    "            else:\n",
    "                lemma = nltk.WordNetLemmatizer().lemmatize(word)\n",
    "            lemmatized_sentence.append((lemma, p))\n",
    "        \n",
    "        brown_lemmatized.append(lemmatized_sentence)\n",
    "        \n",
    "    brown_lemmatized_words = []\n",
    "    for sent in brown_lemmatized:\n",
    "        brown_lemmatized_words.extend(sent)\n",
    "    \n",
    "    brown_lemmas_frequencies = collections.Counter(brown_lemmatized_words)\n",
    "\n",
    "    brown_noun_frequencies = collections.Counter(\n",
    "        [word for word, freq in brown_lemmas_frequencies.items() if word[1] == \"NOUN\" and len(word[0]) > 3 and freq > 10])\n",
    "    \n",
    "    spansize = 5\n",
    "\n",
    "    cooccs_surface = collections.Counter()\n",
    "\n",
    "    for sentence in brown_lemmatized:\n",
    "        for i, token in enumerate(sentence):\n",
    "            if token[1] == \"NOUN\":\n",
    "                span_range = list(range(max(i- spansize, 0), i))  \n",
    "                span_range.extend(range(i+1, min(i + spansize + 1, len(sentence))))  \n",
    "                for cw in [sentence[idx] for idx in span_range]:\n",
    "                        cooccs_surface[token, cw] += 1\n",
    "                        \n",
    "    filtered_cooccs_surface = collections.Counter()    \n",
    "    \n",
    "    for (target, context), freq in cooccs_surface.items():\n",
    "        if target in brown_noun_frequencies\\\n",
    "        and context in brown_noun_frequencies:\n",
    "            filtered_cooccs_surface[(target, context)] = freq\n",
    "    \n",
    "    ppmis_k_surface = collections.Counter()\n",
    "\n",
    "    N = sum(cooccs_surface.values())  \n",
    "    k = constant\n",
    "    \n",
    "    for key,value in filtered_cooccs_surface.items():\n",
    "            ppmis_k_surface[key] = ppmi_k(\n",
    "                value, k, brown_lemmas_frequencies[key[0]],\n",
    "                brown_lemmas_frequencies[key[1]], N)\n",
    "            \n",
    "    new_ppmis_k_surface = collections.Counter()\n",
    "    \n",
    "    for key, freq in ppmis_k_surface.most_common():\n",
    "        if freq not in new_ppmis_k_surface:\n",
    "            new_ppmis_k_surface.update((key, freq))\n",
    "            \n",
    "    final_ppmis_k_surface = [key for key in new_ppmis_k_surface.keys()]\n",
    "\n",
    "        \n",
    "    return final_ppmis_k_surface[:50]"
   ]
  },
  {
   "cell_type": "code",
   "execution_count": 63,
   "metadata": {},
   "outputs": [
    {
     "name": "stdout",
     "output_type": "stream",
     "text": [
      "\t\t *** exponent: k = 0.2 ***\n"
     ]
    },
    {
     "data": {
      "text/plain": [
       "[(('Hong', 'NOUN'), ('Kong', 'NOUN')),\n",
       " 14.8865458927544,\n",
       " (('Hillsboro', 'NOUN'), ('Hillsboro', 'NOUN')),\n",
       " 14.59465956902694,\n",
       " (('Herald', 'NOUN'), ('Tribune', 'NOUN')),\n",
       " 14.515122453934667,\n",
       " (('drainage', 'NOUN'), ('ditch', 'NOUN')),\n",
       " 14.418037088500617,\n",
       " (('cliche', 'NOUN'), ('cliche', 'NOUN')),\n",
       " 14.394659569026938,\n",
       " (('Willie', 'NOUN'), ('Mays', 'NOUN')),\n",
       " 14.353651469523145,\n",
       " (('Income', 'NOUN'), ('Income', 'NOUN')),\n",
       " 14.343597804859222,\n",
       " (('tablespoon', 'NOUN'), ('tablespoon', 'NOUN')),\n",
       " 14.31264337001935,\n",
       " (('uniformity', 'NOUN'), ('disadvantage', 'NOUN')),\n",
       " 14.26912868694308,\n",
       " (('juice', 'NOUN'), ('orange', 'NOUN')),\n",
       " 14.228120587439287,\n",
       " (('precinct', 'NOUN'), ('signature', 'NOUN')),\n",
       " 14.194659569026939,\n",
       " (('Simms', 'NOUN'), ('Purdew', 'NOUN')),\n",
       " 14.15808996447427,\n",
       " (('Master', 'NOUN'), ('Greene', 'NOUN')),\n",
       " 14.153651469523144,\n",
       " (('Monroe', 'NOUN'), ('Monroe', 'NOUN')),\n",
       " 14.143597804859223,\n",
       " (('Beverly', 'NOUN'), ('Hills', 'NOUN')),\n",
       " 14.12272066624707,\n",
       " (('Ave.', 'NOUN'), ('Ave.', 'NOUN')),\n",
       " 14.11264337001935,\n",
       " (('fleet', 'NOUN'), ('plow', 'NOUN')),\n",
       " 14.069128686943081,\n",
       " (('Islands', 'NOUN'), ('Guam', 'NOUN')),\n",
       " 14.050521627865525,\n",
       " (('Water', 'NOUN'), ('Maxwell', 'NOUN')),\n",
       " 14.046736265606631,\n",
       " (('Colorado', 'NOUN'), ('Springs', 'NOUN')),\n",
       " 14.02963587016358,\n",
       " (('mercenary', 'NOUN'), ('Lafayette', 'NOUN')),\n",
       " 14.028120587439286,\n",
       " (('vapor', 'NOUN'), ('thermometer', 'NOUN')),\n",
       " 13.971083687808468,\n",
       " (('inhabitant', 'NOUN'), ('Ross', 'NOUN')),\n",
       " 13.953651469523145,\n",
       " (('Minister', 'NOUN'), ('Green', 'NOUN')),\n",
       " 13.947200592055719,\n",
       " (('Federation', 'NOUN'), (\"Women's\", 'NOUN')),\n",
       " 13.943597804859222]"
      ]
     },
     "execution_count": 63,
     "metadata": {},
     "output_type": "execute_result"
    }
   ],
   "source": [
    "brown_nouns_ppmis_k(0.2)"
   ]
  },
  {
   "cell_type": "code",
   "execution_count": 64,
   "metadata": {},
   "outputs": [
    {
     "name": "stdout",
     "output_type": "stream",
     "text": [
      "\t\t *** exponent: k = 1 ***\n"
     ]
    },
    {
     "data": {
      "text/plain": [
       "[(('Hong', 'NOUN'), ('Kong', 'NOUN')),\n",
       " 17.654091187664235,\n",
       " (('Simms', 'NOUN'), ('Purdew', 'NOUN')),\n",
       " 17.026059965051196,\n",
       " (('Islands', 'NOUN'), ('Guam', 'NOUN')),\n",
       " 16.818066922775362,\n",
       " (('Herald', 'NOUN'), ('Tribune', 'NOUN')),\n",
       " 16.76100639158075,\n",
       " (('tablespoon', 'NOUN'), ('tablespoon', 'NOUN')),\n",
       " 16.71264337001935,\n",
       " (('Rico', 'NOUN'), ('Guam', 'NOUN')),\n",
       " 16.595674501438914,\n",
       " (('Puerto', 'NOUN'), ('Rico', 'NOUN')),\n",
       " 16.528560305580378,\n",
       " (('Puerto', 'NOUN'), ('Guam', 'NOUN')),\n",
       " 16.40302942349652,\n",
       " (('Saxon', 'NOUN'), ('Shore', 'NOUN')),\n",
       " 16.39611000955673,\n",
       " (('Kohnstamm', 'NOUN'), ('reactivity', 'NOUN')),\n",
       " 16.33508057615917,\n",
       " (('drainage', 'NOUN'), ('ditch', 'NOUN')),\n",
       " 16.27557956441051,\n",
       " (('precinct', 'NOUN'), ('ward', 'NOUN')),\n",
       " 16.239053688385393,\n",
       " (('tent', 'NOUN'), ('tent', 'NOUN')),\n",
       " 16.206632210693016,\n",
       " (('Hillsboro', 'NOUN'), ('Hillsboro', 'NOUN')),\n",
       " 16.19465956902694,\n",
       " (('Beverly', 'NOUN'), ('Hills', 'NOUN')),\n",
       " 16.190690666823993,\n",
       " (('Rico', 'NOUN'), ('Islands', 'NOUN')),\n",
       " 16.136242882801618,\n",
       " (('carbon', 'NOUN'), ('tetrachloride', 'NOUN')),\n",
       " 16.128629698691743,\n",
       " (('Virgin', 'NOUN'), ('Islands', 'NOUN')),\n",
       " 16.05907502227916,\n",
       " (('Onset', 'NOUN'), ('Completion', 'NOUN')),\n",
       " 16.004998349523365,\n",
       " (('oxidation', 'NOUN'), ('pond', 'NOUN')),\n",
       " 15.995128105499305,\n",
       " (('Declaration', 'NOUN'), ('Independence', 'NOUN')),\n",
       " 15.987991924217674,\n",
       " (('Willie', 'NOUN'), ('Mays', 'NOUN')),\n",
       " 15.953651469523145,\n",
       " (('Puerto', 'NOUN'), ('Islands', 'NOUN')),\n",
       " 15.943597804859223,\n",
       " (('juice', 'NOUN'), ('orange', 'NOUN')),\n",
       " 15.828120587439287,\n",
       " (('Vincent', 'NOUN'), ('Berger', 'NOUN')),\n",
       " 15.766059619307034]"
      ]
     },
     "execution_count": 64,
     "metadata": {},
     "output_type": "execute_result"
    }
   ],
   "source": [
    "brown_nouns_ppmis_k(1)"
   ]
  },
  {
   "cell_type": "code",
   "execution_count": 65,
   "metadata": {},
   "outputs": [
    {
     "name": "stdout",
     "output_type": "stream",
     "text": [
      "\t\t *** exponent: k = 5 ***\n"
     ]
    },
    {
     "data": {
      "text/plain": [
       "[(('Rhode', 'NOUN'), ('Island', 'NOUN')),\n",
       " 39.86143489257806,\n",
       " (('Mrs.', 'NOUN'), ('Mrs.', 'NOUN')),\n",
       " 37.526583920969024,\n",
       " (('Peace', 'NOUN'), ('Corps', 'NOUN')),\n",
       " 37.33843984331032,\n",
       " (('tent', 'NOUN'), ('tent', 'NOUN')),\n",
       " 35.834194593127094,\n",
       " (('General', 'NOUN'), ('Motors', 'NOUN')),\n",
       " 35.788517547506636,\n",
       " (('Puerto', 'NOUN'), ('Rico', 'NOUN')),\n",
       " 34.09782999669542,\n",
       " (('President', 'NOUN'), ('Kennedy', 'NOUN')),\n",
       " 33.596425020447754,\n",
       " (('Jesus', 'NOUN'), ('Christ', 'NOUN')),\n",
       " 33.45666775477739,\n",
       " (('Hanover', 'NOUN'), ('Hanover', 'NOUN')),\n",
       " 33.061509177872644,\n",
       " (('oxidation', 'NOUN'), ('pond', 'NOUN')),\n",
       " 32.986838159273645,\n",
       " (('carbon', 'NOUN'), ('tetrachloride', 'NOUN')),\n",
       " 32.808329704460995,\n",
       " (('index', 'NOUN'), ('word', 'NOUN')),\n",
       " 32.8026806075827,\n",
       " (('Brown', 'NOUN'), ('Sharpe', 'NOUN')),\n",
       " 32.69799270500344,\n",
       " (('Kansas', 'NOUN'), ('City', 'NOUN')),\n",
       " 32.59543589616235,\n",
       " (('Soviet', 'NOUN'), ('Union', 'NOUN')),\n",
       " 32.41308308816044,\n",
       " (('index', 'NOUN'), ('switch', 'NOUN')),\n",
       " 32.00974899483351,\n",
       " (('urethane', 'NOUN'), ('foam', 'NOUN')),\n",
       " 31.910216877670734,\n",
       " (('anode', 'NOUN'), ('holder', 'NOUN')),\n",
       " 31.835511390946213,\n",
       " (('wage', 'NOUN'), ('increase', 'NOUN')),\n",
       " 31.820732333320528,\n",
       " (('State', 'NOUN'), ('Department', 'NOUN')),\n",
       " 31.764318640535897,\n",
       " (('time', 'NOUN'), ('time', 'NOUN')),\n",
       " 31.759173233721793,\n",
       " (('Pathology', 'NOUN'), ('Pathology', 'NOUN')),\n",
       " 31.71264337001935,\n",
       " (('Washington', 'NOUN'), ('D.C.', 'NOUN')),\n",
       " 31.70797859294937,\n",
       " (('Hong', 'NOUN'), ('Kong', 'NOUN')),\n",
       " 31.491817662213425,\n",
       " (('Simms', 'NOUN'), ('Purdew', 'NOUN')),\n",
       " 31.36590996793582]"
      ]
     },
     "execution_count": 65,
     "metadata": {},
     "output_type": "execute_result"
    }
   ],
   "source": [
    "brown_nouns_ppmis_k(5)"
   ]
  },
  {
   "cell_type": "markdown",
   "metadata": {},
   "source": [
    "---"
   ]
  },
  {
   "cell_type": "markdown",
   "metadata": {},
   "source": [
    "### Submission\n",
    "\n",
    "Upload in Moodle your completed notebook **along with the frequency lists** generated in exercise 2. \n",
    "\n",
    "Before submission, **test** your program by restarting the notebook kernel and running your code again."
   ]
  },
  {
   "cell_type": "markdown",
   "metadata": {},
   "source": [
    "---"
   ]
  }
 ],
 "metadata": {
  "kernelspec": {
   "display_name": "Python 3",
   "language": "python",
   "name": "python3"
  },
  "language_info": {
   "codemirror_mode": {
    "name": "ipython",
    "version": 3
   },
   "file_extension": ".py",
   "mimetype": "text/x-python",
   "name": "python",
   "nbconvert_exporter": "python",
   "pygments_lexer": "ipython3",
   "version": "3.7.4"
  }
 },
 "nbformat": 4,
 "nbformat_minor": 2
}
